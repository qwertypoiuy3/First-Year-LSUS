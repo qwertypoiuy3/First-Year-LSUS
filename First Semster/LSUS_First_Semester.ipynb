{
  "nbformat": 4,
  "nbformat_minor": 0,
  "metadata": {
    "colab": {
      "provenance": [],
      "authorship_tag": "ABX9TyMPhApi83bCPP3qKrk6Ko24",
      "include_colab_link": true
    },
    "kernelspec": {
      "name": "python3",
      "display_name": "Python 3"
    },
    "language_info": {
      "name": "python"
    }
  },
  "cells": [
    {
      "cell_type": "markdown",
      "metadata": {
        "id": "view-in-github",
        "colab_type": "text"
      },
      "source": [
        "<a href=\"https://colab.research.google.com/github/qwertypoiuy3/First-Year-LSUS/blob/main/LSUS_First_Semester.ipynb\" target=\"_parent\"><img src=\"https://colab.research.google.com/assets/colab-badge.svg\" alt=\"Open In Colab\"/></a>"
      ]
    },
    {
      "cell_type": "code",
      "execution_count": null,
      "metadata": {
        "id": "C5XMLUpQWbEV"
      },
      "outputs": [],
      "source": [
        "#Karin Galicia\n",
        "#Hw #3\n",
        "\n",
        "initial_time_1 = int(input(\"At what time did you start working? (hour)\"))\n",
        "initial_time_2 = int(input(\"At what time did you start working? (minute)\"))\n",
        "end_time_1 = int(input(\"At what time did you finish? (hour)\"))\n",
        "end_time_2 = int(input(\"At what time did you finish? (minute)\"))\n",
        "\n",
        "first = (end_time_1 - initial_time_1) * 60 + end_time_2 - initial_time_2\n",
        "\n",
        "break_start_1 = int(input(\"At what time did you start your break? (hour)\"))\n",
        "break_start_2 = int(input(\"At what time did you start your break? (minute)\"))\n",
        "break_end_1 = int(input(\"At what time did your break end? (hour)\"))\n",
        "break_end_2 = int(input(\"At what time did you break end? (minute)\"))\n",
        "\n",
        "second = (break_end_1 - break_start_1) * 60 + break_end_2 - break_start_2\n",
        "\n",
        "result = first - second\n",
        "\n",
        "print(\"Total time worked in minutes is: \" ,result)\n",
        "print(\"Hours: \" ,result // 60 , \" minutes: \" ,result % 60)"
      ]
    },
    {
      "cell_type": "code",
      "source": [
        "#Karin Galicia\n",
        "#Hw 3\n",
        "\n",
        "startingWeight = input(\"Enter the starting weight of the food: \")\n",
        "find = startingWeight.find(\":\")\n",
        "lbs = startingWeight[0:find]\n",
        "ozs = startingWeight[find+1:]\n",
        "mult = (int(lbs) * 16) + int(ozs)\n",
        "\n",
        "endingWeight = input(\"Enter the ending weight of the food: \")\n",
        "find2 = endingWeight.find(\":\")\n",
        "lbs2 = endingWeight[0:find2]\n",
        "ozs2 =  endingWeight[find2+1:]\n",
        "mult2 = (int(lbs2) * 16) + int(ozs2)\n",
        "\n",
        "op = (mult - mult2) / 16\n",
        "print(op)"
      ],
      "metadata": {
        "id": "mVLlWotIW0kG"
      },
      "execution_count": null,
      "outputs": []
    },
    {
      "cell_type": "code",
      "source": [
        "#Karin Galcia\n",
        "#Hw 4\n",
        "\n",
        "name = input(\"Enter employee's name: \")\n",
        "totalPay = 0\n",
        "while name != \"zzzz \":\n",
        "    hours = int(input(\"Enter employee’s hours worked: \"))\n",
        "    rate = int(input(\"Enter employee's hourly rate of pay: \"))\n",
        "    if hours > 40:\n",
        "        pay = rate * 40 + (hours - 40) * 1.5 * rate\n",
        "    else:\n",
        "        pay = rate * hours\n",
        "    print (name + \"'s pay=$\" + str(pay))\n",
        "    name = input(\"Enter employee's name: \")\n",
        "    totalPay = totalPay + pay\n",
        "print (\"Total pay =$\" + str(totalPay))"
      ],
      "metadata": {
        "id": "V53f1aX3W8WW"
      },
      "execution_count": null,
      "outputs": []
    },
    {
      "cell_type": "code",
      "source": [
        "#Karin Galicia\n",
        "#Hw 4\n",
        "\n",
        "n = 5\n",
        "print(\"Rate Principal Simple Compound\")\n",
        "for rate in range(5,16,5):\n",
        "    for principal in range(10000,15001,1000):\n",
        "        simple = principal * (1 + (rate / 100) * n)\n",
        "        compound = principal * (1 + (rate / 100)) ** n\n",
        "        print(\"%\" + str(rate) + \" $\" + str(principal) + \" \" + \"$\" + str(simple) + \"0 $\" + str(round(compound,2)))\n"
      ],
      "metadata": {
        "id": "lk3t1lC_W9SX"
      },
      "execution_count": null,
      "outputs": []
    },
    {
      "cell_type": "code",
      "source": [
        "O = [1]\n",
        "for i in range(0,8):\n",
        "    e = O[i] + O[i - 1]\n",
        "    O.append(e)\n",
        "\n",
        "for a in range(8,-1,-1):\n",
        "    print(O[a], end = ', ')\n",
        "print(\"1\")"
      ],
      "metadata": {
        "id": "d6VYcuwAW_8I"
      },
      "execution_count": null,
      "outputs": []
    }
  ]
}